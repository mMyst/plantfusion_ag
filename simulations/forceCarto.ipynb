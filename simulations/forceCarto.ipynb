{
 "cells": [
  {
   "cell_type": "code",
   "execution_count": 1,
   "metadata": {},
   "outputs": [
    {
     "ename": "ImportError",
     "evalue": "unable to find Qt5Core.dll on PATH",
     "output_type": "error",
     "traceback": [
      "\u001b[1;31m---------------------------------------------------------------------------\u001b[0m",
      "\u001b[1;31mImportError\u001b[0m                               Traceback (most recent call last)",
      "Cell \u001b[1;32mIn[1], line 7\u001b[0m\n\u001b[0;32m      5\u001b[0m \u001b[38;5;28;01mfrom\u001b[39;00m \u001b[38;5;21;01m__future__\u001b[39;00m \u001b[38;5;28;01mimport\u001b[39;00m print_function\n\u001b[0;32m      6\u001b[0m \u001b[38;5;28;01mfrom\u001b[39;00m \u001b[38;5;21;01mipywidgets\u001b[39;00m \u001b[38;5;28;01mimport\u001b[39;00m interact, interactive, fixed, interact_manual\n\u001b[1;32m----> 7\u001b[0m \u001b[38;5;28;01mfrom\u001b[39;00m \u001b[38;5;21;01mpgljupyter\u001b[39;00m \u001b[38;5;28;01mimport\u001b[39;00m LsystemWidget, SceneWidget \u001b[38;5;66;03m#librairie Lsystem\u001b[39;00m\n\u001b[0;32m      8\u001b[0m \u001b[38;5;28;01mfrom\u001b[39;00m \u001b[38;5;21;01mpathlib\u001b[39;00m \u001b[38;5;28;01mimport\u001b[39;00m Path\n\u001b[0;32m      9\u001b[0m \u001b[38;5;28;01mimport\u001b[39;00m \u001b[38;5;21;01mlegume\u001b[39;00m\n",
      "File \u001b[1;32mc:\\Users\\agrumel\\AppData\\Local\\anaconda3\\envs\\plantfusion\\lib\\site-packages\\pgljupyter\\__init__.py:1\u001b[0m\n\u001b[1;32m----> 1\u001b[0m \u001b[38;5;28;01mfrom\u001b[39;00m \u001b[38;5;21;01m.\u001b[39;00m\u001b[38;5;21;01mwidgets\u001b[39;00m \u001b[38;5;28;01mimport\u001b[39;00m SceneWidget, LsystemWidget\n\u001b[0;32m      2\u001b[0m \u001b[38;5;28;01mfrom\u001b[39;00m \u001b[38;5;21;01m.\u001b[39;00m\u001b[38;5;21;01meditors\u001b[39;00m \u001b[38;5;28;01mimport\u001b[39;00m ParameterEditor\n\u001b[0;32m      3\u001b[0m \u001b[38;5;28;01mfrom\u001b[39;00m \u001b[38;5;21;01m.\u001b[39;00m\u001b[38;5;21;01m_version\u001b[39;00m \u001b[38;5;28;01mimport\u001b[39;00m __version__, version_info\n",
      "File \u001b[1;32mc:\\Users\\agrumel\\AppData\\Local\\anaconda3\\envs\\plantfusion\\lib\\site-packages\\pgljupyter\\widgets.py:19\u001b[0m\n\u001b[0;32m     13\u001b[0m \u001b[38;5;28;01mfrom\u001b[39;00m \u001b[38;5;21;01mipywidgets\u001b[39;00m\u001b[38;5;21;01m.\u001b[39;00m\u001b[38;5;21;01mwidgets\u001b[39;00m \u001b[38;5;28;01mimport\u001b[39;00m DOMWidget, register\n\u001b[0;32m     14\u001b[0m \u001b[38;5;28;01mfrom\u001b[39;00m \u001b[38;5;21;01mtraitlets\u001b[39;00m \u001b[38;5;28;01mimport\u001b[39;00m (\n\u001b[0;32m     15\u001b[0m     Unicode, Instance,\n\u001b[0;32m     16\u001b[0m     Bytes, Int, Float, Tuple, Dict, Bool, List, UseEnum\n\u001b[0;32m     17\u001b[0m )\n\u001b[1;32m---> 19\u001b[0m \u001b[38;5;28;01mimport\u001b[39;00m \u001b[38;5;21;01mopenalea\u001b[39;00m\u001b[38;5;21;01m.\u001b[39;00m\u001b[38;5;21;01mplantgl\u001b[39;00m\u001b[38;5;21;01m.\u001b[39;00m\u001b[38;5;21;01mall\u001b[39;00m \u001b[38;5;28;01mas\u001b[39;00m \u001b[38;5;21;01mpgl\u001b[39;00m\n\u001b[0;32m     20\u001b[0m \u001b[38;5;28;01mimport\u001b[39;00m \u001b[38;5;21;01mopenalea\u001b[39;00m\u001b[38;5;21;01m.\u001b[39;00m\u001b[38;5;21;01mlpy\u001b[39;00m \u001b[38;5;28;01mas\u001b[39;00m \u001b[38;5;21;01mlpy\u001b[39;00m\n\u001b[0;32m     21\u001b[0m \u001b[38;5;28;01mfrom\u001b[39;00m \u001b[38;5;21;01mopenalea\u001b[39;00m\u001b[38;5;21;01m.\u001b[39;00m\u001b[38;5;21;01mlpy\u001b[39;00m\u001b[38;5;21;01m.\u001b[39;00m\u001b[38;5;21;01mlsysparameters\u001b[39;00m \u001b[38;5;28;01mimport\u001b[39;00m LsystemParameters\n",
      "File \u001b[1;32mc:\\users\\agrumel\\appdata\\local\\anaconda3\\envs\\plantfusion\\lib\\site-packages\\openalea.plantgl-3.13.1-py3.9.egg\\openalea\\plantgl\\all.py:5\u001b[0m\n\u001b[0;32m      3\u001b[0m \u001b[38;5;28;01mfrom\u001b[39;00m \u001b[38;5;21;01m.\u001b[39;00m\u001b[38;5;21;01malgo\u001b[39;00m \u001b[38;5;28;01mimport\u001b[39;00m \u001b[38;5;241m*\u001b[39m\n\u001b[0;32m      4\u001b[0m \u001b[38;5;28;01mif\u001b[39;00m \u001b[38;5;129;01mnot\u001b[39;00m pgl_support_extension(\u001b[38;5;124m'\u001b[39m\u001b[38;5;124mPGL_NO_QT_GUI\u001b[39m\u001b[38;5;124m'\u001b[39m):\n\u001b[1;32m----> 5\u001b[0m     \u001b[38;5;28;01mfrom\u001b[39;00m \u001b[38;5;21;01m.\u001b[39;00m\u001b[38;5;21;01mgui\u001b[39;00m \u001b[38;5;28;01mimport\u001b[39;00m \u001b[38;5;241m*\u001b[39m\n\u001b[0;32m      7\u001b[0m \u001b[38;5;28;01mfrom\u001b[39;00m \u001b[38;5;21;01m.\u001b[39;00m \u001b[38;5;28;01mimport\u001b[39;00m codec\n\u001b[0;32m      9\u001b[0m \u001b[38;5;28;01mfrom\u001b[39;00m \u001b[38;5;21;01mos\u001b[39;00m\u001b[38;5;21;01m.\u001b[39;00m\u001b[38;5;21;01mpath\u001b[39;00m \u001b[38;5;28;01mimport\u001b[39;00m join \u001b[38;5;28;01mas\u001b[39;00m pj\n",
      "File \u001b[1;32mc:\\users\\agrumel\\appdata\\local\\anaconda3\\envs\\plantfusion\\lib\\site-packages\\openalea.plantgl-3.13.1-py3.9.egg\\openalea\\plantgl\\gui\\__init__.py:2\u001b[0m\n\u001b[0;32m      1\u001b[0m \u001b[38;5;28;01mfrom\u001b[39;00m \u001b[38;5;21;01m.\u001b[39;00m\u001b[38;5;21;01m_pglgui\u001b[39;00m \u001b[38;5;28;01mimport\u001b[39;00m \u001b[38;5;241m*\u001b[39m\n\u001b[1;32m----> 2\u001b[0m \u001b[38;5;28;01mfrom\u001b[39;00m \u001b[38;5;21;01m.\u001b[39;00m\u001b[38;5;21;01mqt\u001b[39;00m\u001b[38;5;21;01m.\u001b[39;00m\u001b[38;5;21;01mQtGui\u001b[39;00m \u001b[38;5;28;01mimport\u001b[39;00m QApplication\n\u001b[0;32m      4\u001b[0m \u001b[38;5;66;03m#if QApplication.instance() is None:\u001b[39;00m\n\u001b[0;32m      5\u001b[0m \u001b[38;5;66;03m#    qPglApp =  QApplication([])\u001b[39;00m\n\u001b[0;32m      7\u001b[0m qPglApp \u001b[38;5;241m=\u001b[39m \u001b[38;5;28;01mNone\u001b[39;00m\n",
      "File \u001b[1;32mc:\\users\\agrumel\\appdata\\local\\anaconda3\\envs\\plantfusion\\lib\\site-packages\\openalea.plantgl-3.13.1-py3.9.egg\\openalea\\plantgl\\gui\\qt\\QtGui.py:16\u001b[0m\n\u001b[0;32m     12\u001b[0m \u001b[38;5;28;01mfrom\u001b[39;00m \u001b[38;5;21;01mopenalea\u001b[39;00m\u001b[38;5;21;01m.\u001b[39;00m\u001b[38;5;21;01mplantgl\u001b[39;00m\u001b[38;5;21;01m.\u001b[39;00m\u001b[38;5;21;01mgui\u001b[39;00m\u001b[38;5;21;01m.\u001b[39;00m\u001b[38;5;21;01mqt\u001b[39;00m \u001b[38;5;28;01mimport\u001b[39;00m PYSIDE_API\n\u001b[0;32m     15\u001b[0m \u001b[38;5;28;01mif\u001b[39;00m os\u001b[38;5;241m.\u001b[39menviron[QT_API] \u001b[38;5;129;01min\u001b[39;00m PYQT5_API:\n\u001b[1;32m---> 16\u001b[0m     \u001b[38;5;28;01mfrom\u001b[39;00m \u001b[38;5;21;01mPyQt5\u001b[39;00m\u001b[38;5;21;01m.\u001b[39;00m\u001b[38;5;21;01mQtGui\u001b[39;00m \u001b[38;5;28;01mimport\u001b[39;00m \u001b[38;5;241m*\u001b[39m\n\u001b[0;32m     17\u001b[0m     \u001b[38;5;28;01mfrom\u001b[39;00m \u001b[38;5;21;01mPyQt5\u001b[39;00m\u001b[38;5;21;01m.\u001b[39;00m\u001b[38;5;21;01mQtWidgets\u001b[39;00m \u001b[38;5;28;01mimport\u001b[39;00m \u001b[38;5;241m*\u001b[39m\n\u001b[0;32m     18\u001b[0m     _tab_position \u001b[38;5;241m=\u001b[39m {\n\u001b[0;32m     19\u001b[0m         \u001b[38;5;241m0\u001b[39m: QTabWidget\u001b[38;5;241m.\u001b[39mNorth,\n\u001b[0;32m     20\u001b[0m         \u001b[38;5;241m1\u001b[39m: QTabWidget\u001b[38;5;241m.\u001b[39mSouth,\n\u001b[0;32m     21\u001b[0m         \u001b[38;5;241m2\u001b[39m: QTabWidget\u001b[38;5;241m.\u001b[39mWest,\n\u001b[0;32m     22\u001b[0m         \u001b[38;5;241m3\u001b[39m: QTabWidget\u001b[38;5;241m.\u001b[39mEast,\n\u001b[0;32m     23\u001b[0m     }\n",
      "File \u001b[1;32mc:\\Users\\agrumel\\AppData\\Local\\anaconda3\\envs\\plantfusion\\lib\\site-packages\\PyQt5\\__init__.py:41\u001b[0m\n\u001b[0;32m     37\u001b[0m     \u001b[38;5;28;01mexcept\u001b[39;00m \u001b[38;5;167;01mAttributeError\u001b[39;00m:\n\u001b[0;32m     38\u001b[0m         \u001b[38;5;28;01mpass\u001b[39;00m\n\u001b[1;32m---> 41\u001b[0m \u001b[43mfind_qt\u001b[49m\u001b[43m(\u001b[49m\u001b[43m)\u001b[49m\n\u001b[0;32m     42\u001b[0m \u001b[38;5;28;01mdel\u001b[39;00m find_qt\n",
      "File \u001b[1;32mc:\\Users\\agrumel\\AppData\\Local\\anaconda3\\envs\\plantfusion\\lib\\site-packages\\PyQt5\\__init__.py:33\u001b[0m, in \u001b[0;36mfind_qt\u001b[1;34m()\u001b[0m\n\u001b[0;32m     31\u001b[0m             \u001b[38;5;28;01mbreak\u001b[39;00m\n\u001b[0;32m     32\u001b[0m     \u001b[38;5;28;01melse\u001b[39;00m:\n\u001b[1;32m---> 33\u001b[0m         \u001b[38;5;28;01mraise\u001b[39;00m \u001b[38;5;167;01mImportError\u001b[39;00m(\u001b[38;5;124m\"\u001b[39m\u001b[38;5;124munable to find Qt5Core.dll on PATH\u001b[39m\u001b[38;5;124m\"\u001b[39m)\n\u001b[0;32m     35\u001b[0m \u001b[38;5;28;01mtry\u001b[39;00m:\n\u001b[0;32m     36\u001b[0m     os\u001b[38;5;241m.\u001b[39madd_dll_directory(dll_dir)\n",
      "\u001b[1;31mImportError\u001b[0m: unable to find Qt5Core.dll on PATH"
     ]
    }
   ],
   "source": [
    "#Imports de lpy, caribu et plantgl\n",
    "\n",
    "from openalea.lpy import *\n",
    "\n",
    "from __future__ import print_function\n",
    "from ipywidgets import interact, interactive, fixed, interact_manual\n",
    "from pgljupyter import LsystemWidget, SceneWidget #librairie Lsystem\n",
    "from pathlib import Path\n",
    "import legume\n",
    "import os\n",
    "import sys\n",
    "\n",
    "\n",
    "#local path du package l-egume\n",
    "path_leg = os.path.dirname(os.path.abspath(legume.__file__))\n",
    "\n",
    "import IOxls as IOxls\n",
    "import IOtable as IOtable\n",
    "import pandas as pd\n",
    "\n",
    "foldin = os.path.join(path_leg, 'inputs_soil_legume')\n",
    "foldout = os.path.join(path_leg, 'outputs')\n",
    "\n",
    "\n",
    "print('folder inputs:', foldin)\n",
    "print('folder outputs:', foldout)\n"
   ]
  },
  {
   "cell_type": "code",
   "execution_count": null,
   "metadata": {},
   "outputs": [],
   "source": [
    "import legume.IOxls as IOxls\n",
    "import legume.IOtable as IOtable\n",
    "import pandas as pd\n",
    "\n",
    "foldin = os.path.join(path_leg, 'inputs_soil_legume')\n",
    "foldout = os.path.join(path_leg, 'outputs')\n",
    "\n",
    "\n",
    "print('folder inputs:', foldin)\n",
    "print('folder outputs:', foldout)\n"
   ]
  },
  {
   "cell_type": "code",
   "execution_count": 4,
   "metadata": {},
   "outputs": [
    {
     "name": "stdout",
     "output_type": "stream",
     "text": [
      "usm file: c:\\Users\\agrumel\\Code\\Python_Ecophy\\plantfusion\\inputs_soil_legume\\liste_usms_exemple.xls\n",
      "   ID_usm        mixID typearrangement  optdamier  cote  nbcote\n",
      "0     1.0        LUCOS            row4        0.0  40.0     8.0\n",
      "1     2.0        LUCOS            row4        0.0  56.0    14.0\n",
      "2     3.0  mix_default            row4        0.0  56.0    14.0\n",
      "3     4.0        LUCOS            row4        0.0  40.0    16.0\n",
      "4     5.0  mix_default            row4        0.0  40.0     8.0\n",
      "5     6.0  mix_default            row4        0.0  56.0    14.0\n"
     ]
    }
   ],
   "source": [
    "# lecture fichier liste d'usm\n",
    "usm_file = 'liste_usms_exemple.xls'\n",
    "ongletUSM = 'LUCOS'\n",
    "usm_path = os.path.join(foldin, usm_file)\n",
    "print('usm file:', usm_path)\n",
    "\n",
    "# lecture\n",
    "usms = IOxls.xlrd.open_workbook(usm_path)\n",
    "# recup dans un disctionnaire (vraie input l-egume)\n",
    "dic_usms = IOtable.conv_dataframe(IOxls.get_xls_col(usms.sheet_by_name(ongletUSM)))\n",
    "# conversion en pandas df\n",
    "df_usms = pd.DataFrame(dic_usms)\n",
    "\n",
    "print(df_usms[[\"ID_usm\", \"mixID\", \"typearrangement\", \"optdamier\", \"cote\", \"nbcote\"]])"
   ]
  },
  {
   "cell_type": "code",
   "execution_count": 5,
   "metadata": {},
   "outputs": [
    {
     "ename": "ImportError",
     "evalue": "unable to find Qt5Core.dll on PATH",
     "output_type": "error",
     "traceback": [
      "\u001b[1;31m---------------------------------------------------------------------------\u001b[0m",
      "\u001b[1;31mImportError\u001b[0m                               Traceback (most recent call last)",
      "Cell \u001b[1;32mIn[5], line 8\u001b[0m\n\u001b[0;32m      5\u001b[0m numID\u001b[38;5;241m=\u001b[39m\u001b[38;5;241m0\u001b[39m\n\u001b[0;32m      7\u001b[0m \u001b[38;5;66;03m# formate le objet l-system selon les entrees de l'USM numID\u001b[39;00m\n\u001b[1;32m----> 8\u001b[0m mylsys \u001b[38;5;241m=\u001b[39m \u001b[43mrunl\u001b[49m\u001b[38;5;241;43m.\u001b[39;49m\u001b[43mlsystemInputOutput_usm\u001b[49m\u001b[43m(\u001b[49m\u001b[43musm_file\u001b[49m\u001b[43m,\u001b[49m\u001b[43m \u001b[49m\u001b[43mfoldin\u001b[49m\u001b[43m,\u001b[49m\u001b[43m \u001b[49m\u001b[43mongletBatch\u001b[49m\u001b[38;5;241;43m=\u001b[39;49m\u001b[38;5;124;43m'\u001b[39;49m\u001b[38;5;124;43mLUCOS\u001b[39;49m\u001b[38;5;124;43m'\u001b[39;49m\u001b[43m,\u001b[49m\u001b[43m \u001b[49m\u001b[43mi\u001b[49m\u001b[38;5;241;43m=\u001b[39;49m\u001b[43mnumID\u001b[49m\u001b[43m,\u001b[49m\u001b[43m \u001b[49m\u001b[43mpath_OUT\u001b[49m\u001b[38;5;241;43m=\u001b[39;49m\u001b[43mfoldout\u001b[49m\u001b[43m)\u001b[49m\n\u001b[0;32m      9\u001b[0m nom \u001b[38;5;241m=\u001b[39m \u001b[38;5;28mlist\u001b[39m(mylsys)[\u001b[38;5;241m0\u001b[39m]\n\u001b[0;32m     11\u001b[0m \u001b[38;5;28mprint\u001b[39m(nom)\n",
      "File \u001b[1;32mc:\\users\\agrumel\\code\\python_ecophy\\l-egume\\legume\\run_legume_usm.py:61\u001b[0m, in \u001b[0;36mlsystemInputOutput_usm\u001b[1;34m(fxls_usm, foldin, ongletBatch, i, path_OUT, update_usm_parameters)\u001b[0m\n\u001b[0;32m     59\u001b[0m path_ \u001b[38;5;241m=\u001b[39m os\u001b[38;5;241m.\u001b[39mpath\u001b[38;5;241m.\u001b[39mdirname(os\u001b[38;5;241m.\u001b[39mpath\u001b[38;5;241m.\u001b[39mabspath(legume\u001b[38;5;241m.\u001b[39m\u001b[38;5;18m__file__\u001b[39m))  \u001b[38;5;66;03m# local absolute path of L-egume\u001b[39;00m\n\u001b[0;32m     60\u001b[0m path_lsys \u001b[38;5;241m=\u001b[39m os\u001b[38;5;241m.\u001b[39mpath\u001b[38;5;241m.\u001b[39mjoin(path_, \u001b[38;5;28mstr\u001b[39m(ls_usms[\u001b[38;5;124m'\u001b[39m\u001b[38;5;124ml_system\u001b[39m\u001b[38;5;124m'\u001b[39m][i]))\n\u001b[1;32m---> 61\u001b[0m testsim[name] \u001b[38;5;241m=\u001b[39m \u001b[43mlpy\u001b[49m\u001b[38;5;241;43m.\u001b[39;49m\u001b[43mLsystem\u001b[49m\u001b[43m(\u001b[49m\u001b[43mpath_lsys\u001b[49m\u001b[43m)\u001b[49m  \u001b[38;5;66;03m# objet l-system\u001b[39;00m\n\u001b[0;32m     63\u001b[0m \u001b[38;5;66;03m# testsim[name].ongletM = str(ls_usms['ongletM'][i])\u001b[39;00m\n\u001b[0;32m     64\u001b[0m meteo_path_ \u001b[38;5;241m=\u001b[39m os\u001b[38;5;241m.\u001b[39mpath\u001b[38;5;241m.\u001b[39mjoin(foldin, \u001b[38;5;28mstr\u001b[39m(ls_usms[\u001b[38;5;124m'\u001b[39m\u001b[38;5;124mmeteo\u001b[39m\u001b[38;5;124m'\u001b[39m][i]))\u001b[38;5;66;03m#(path_, 'input', str(ls_usms['meteo'][i]))\u001b[39;00m\n",
      "File \u001b[1;32m<string>:1\u001b[0m\n",
      "File \u001b[1;32mc:\\users\\agrumel\\appdata\\local\\anaconda3\\envs\\plantfusion\\lib\\site-packages\\openalea.plantgl-3.13.1-py3.9.egg\\openalea\\plantgl\\all.py:5\u001b[0m\n\u001b[0;32m      3\u001b[0m \u001b[38;5;28;01mfrom\u001b[39;00m \u001b[38;5;21;01m.\u001b[39;00m\u001b[38;5;21;01malgo\u001b[39;00m \u001b[38;5;28;01mimport\u001b[39;00m \u001b[38;5;241m*\u001b[39m\n\u001b[0;32m      4\u001b[0m \u001b[38;5;28;01mif\u001b[39;00m \u001b[38;5;129;01mnot\u001b[39;00m pgl_support_extension(\u001b[38;5;124m'\u001b[39m\u001b[38;5;124mPGL_NO_QT_GUI\u001b[39m\u001b[38;5;124m'\u001b[39m):\n\u001b[1;32m----> 5\u001b[0m     \u001b[38;5;28;01mfrom\u001b[39;00m \u001b[38;5;21;01m.\u001b[39;00m\u001b[38;5;21;01mgui\u001b[39;00m \u001b[38;5;28;01mimport\u001b[39;00m \u001b[38;5;241m*\u001b[39m\n\u001b[0;32m      7\u001b[0m \u001b[38;5;28;01mfrom\u001b[39;00m \u001b[38;5;21;01m.\u001b[39;00m \u001b[38;5;28;01mimport\u001b[39;00m codec\n\u001b[0;32m      9\u001b[0m \u001b[38;5;28;01mfrom\u001b[39;00m \u001b[38;5;21;01mos\u001b[39;00m\u001b[38;5;21;01m.\u001b[39;00m\u001b[38;5;21;01mpath\u001b[39;00m \u001b[38;5;28;01mimport\u001b[39;00m join \u001b[38;5;28;01mas\u001b[39;00m pj\n",
      "File \u001b[1;32mc:\\users\\agrumel\\appdata\\local\\anaconda3\\envs\\plantfusion\\lib\\site-packages\\openalea.plantgl-3.13.1-py3.9.egg\\openalea\\plantgl\\gui\\__init__.py:2\u001b[0m\n\u001b[0;32m      1\u001b[0m \u001b[38;5;28;01mfrom\u001b[39;00m \u001b[38;5;21;01m.\u001b[39;00m\u001b[38;5;21;01m_pglgui\u001b[39;00m \u001b[38;5;28;01mimport\u001b[39;00m \u001b[38;5;241m*\u001b[39m\n\u001b[1;32m----> 2\u001b[0m \u001b[38;5;28;01mfrom\u001b[39;00m \u001b[38;5;21;01m.\u001b[39;00m\u001b[38;5;21;01mqt\u001b[39;00m\u001b[38;5;21;01m.\u001b[39;00m\u001b[38;5;21;01mQtGui\u001b[39;00m \u001b[38;5;28;01mimport\u001b[39;00m QApplication\n\u001b[0;32m      4\u001b[0m \u001b[38;5;66;03m#if QApplication.instance() is None:\u001b[39;00m\n\u001b[0;32m      5\u001b[0m \u001b[38;5;66;03m#    qPglApp =  QApplication([])\u001b[39;00m\n\u001b[0;32m      7\u001b[0m qPglApp \u001b[38;5;241m=\u001b[39m \u001b[38;5;28;01mNone\u001b[39;00m\n",
      "File \u001b[1;32mc:\\users\\agrumel\\appdata\\local\\anaconda3\\envs\\plantfusion\\lib\\site-packages\\openalea.plantgl-3.13.1-py3.9.egg\\openalea\\plantgl\\gui\\qt\\QtGui.py:16\u001b[0m\n\u001b[0;32m     12\u001b[0m \u001b[38;5;28;01mfrom\u001b[39;00m \u001b[38;5;21;01mopenalea\u001b[39;00m\u001b[38;5;21;01m.\u001b[39;00m\u001b[38;5;21;01mplantgl\u001b[39;00m\u001b[38;5;21;01m.\u001b[39;00m\u001b[38;5;21;01mgui\u001b[39;00m\u001b[38;5;21;01m.\u001b[39;00m\u001b[38;5;21;01mqt\u001b[39;00m \u001b[38;5;28;01mimport\u001b[39;00m PYSIDE_API\n\u001b[0;32m     15\u001b[0m \u001b[38;5;28;01mif\u001b[39;00m os\u001b[38;5;241m.\u001b[39menviron[QT_API] \u001b[38;5;129;01min\u001b[39;00m PYQT5_API:\n\u001b[1;32m---> 16\u001b[0m     \u001b[38;5;28;01mfrom\u001b[39;00m \u001b[38;5;21;01mPyQt5\u001b[39;00m\u001b[38;5;21;01m.\u001b[39;00m\u001b[38;5;21;01mQtGui\u001b[39;00m \u001b[38;5;28;01mimport\u001b[39;00m \u001b[38;5;241m*\u001b[39m\n\u001b[0;32m     17\u001b[0m     \u001b[38;5;28;01mfrom\u001b[39;00m \u001b[38;5;21;01mPyQt5\u001b[39;00m\u001b[38;5;21;01m.\u001b[39;00m\u001b[38;5;21;01mQtWidgets\u001b[39;00m \u001b[38;5;28;01mimport\u001b[39;00m \u001b[38;5;241m*\u001b[39m\n\u001b[0;32m     18\u001b[0m     _tab_position \u001b[38;5;241m=\u001b[39m {\n\u001b[0;32m     19\u001b[0m         \u001b[38;5;241m0\u001b[39m: QTabWidget\u001b[38;5;241m.\u001b[39mNorth,\n\u001b[0;32m     20\u001b[0m         \u001b[38;5;241m1\u001b[39m: QTabWidget\u001b[38;5;241m.\u001b[39mSouth,\n\u001b[0;32m     21\u001b[0m         \u001b[38;5;241m2\u001b[39m: QTabWidget\u001b[38;5;241m.\u001b[39mWest,\n\u001b[0;32m     22\u001b[0m         \u001b[38;5;241m3\u001b[39m: QTabWidget\u001b[38;5;241m.\u001b[39mEast,\n\u001b[0;32m     23\u001b[0m     }\n",
      "File \u001b[1;32mc:\\Users\\agrumel\\AppData\\Local\\anaconda3\\envs\\plantfusion\\lib\\site-packages\\PyQt5\\__init__.py:41\u001b[0m\n\u001b[0;32m     37\u001b[0m     \u001b[38;5;28;01mexcept\u001b[39;00m \u001b[38;5;167;01mAttributeError\u001b[39;00m:\n\u001b[0;32m     38\u001b[0m         \u001b[38;5;28;01mpass\u001b[39;00m\n\u001b[1;32m---> 41\u001b[0m \u001b[43mfind_qt\u001b[49m\u001b[43m(\u001b[49m\u001b[43m)\u001b[49m\n\u001b[0;32m     42\u001b[0m \u001b[38;5;28;01mdel\u001b[39;00m find_qt\n",
      "File \u001b[1;32mc:\\Users\\agrumel\\AppData\\Local\\anaconda3\\envs\\plantfusion\\lib\\site-packages\\PyQt5\\__init__.py:33\u001b[0m, in \u001b[0;36mfind_qt\u001b[1;34m()\u001b[0m\n\u001b[0;32m     31\u001b[0m             \u001b[38;5;28;01mbreak\u001b[39;00m\n\u001b[0;32m     32\u001b[0m     \u001b[38;5;28;01melse\u001b[39;00m:\n\u001b[1;32m---> 33\u001b[0m         \u001b[38;5;28;01mraise\u001b[39;00m \u001b[38;5;167;01mImportError\u001b[39;00m(\u001b[38;5;124m\"\u001b[39m\u001b[38;5;124munable to find Qt5Core.dll on PATH\u001b[39m\u001b[38;5;124m\"\u001b[39m)\n\u001b[0;32m     35\u001b[0m \u001b[38;5;28;01mtry\u001b[39;00m:\n\u001b[0;32m     36\u001b[0m     os\u001b[38;5;241m.\u001b[39madd_dll_directory(dll_dir)\n",
      "\u001b[1;31mImportError\u001b[0m: unable to find Qt5Core.dll on PATH"
     ]
    }
   ],
   "source": [
    "import numpy as np\n",
    "import openalea.lpy as lpy\n",
    "import legume.run_legume_usm as runl\n",
    "\n",
    "numID=0\n",
    "\n",
    "# formate le objet l-system selon les entrees de l'USM numID\n",
    "mylsys = runl.lsystemInputOutput_usm(usm_file, foldin, ongletBatch='LUCOS', i=numID, path_OUT=foldout)\n",
    "nom = list(mylsys)[0]\n",
    "\n",
    "print(nom)\n",
    "\n"
   ]
  },
  {
   "cell_type": "code",
   "execution_count": 44,
   "metadata": {},
   "outputs": [],
   "source": [
    "#fonction pour créer un nouvel axiom avec N nb plantes\n",
    "def my_axiom(lsys, nbplantes):\n",
    "    a = lpy.AxialTree()\n",
    "    a.append(lsys.attente(1))\n",
    "    for j in range(0, nbplantes):\n",
    "        a.append(lsys.Sd(j))\n",
    "    \n",
    "    return a\n",
    "\n",
    "#definit une carto et plante order\n",
    "my_carto = [np.array([1.,2.,0.]), np.array([11.,2.,0.]), np.array([7.,7.,0.])] # liste de np.array ! doit etre des float \n",
    "my_order = [0,0,0] #liste d'identifiants plantes\n",
    "nbplantes= len(my_carto)\n",
    "\n",
    "#mise a jour de forceCarto et forceOrder\n",
    "mylsys[nom].forceCarto = my_carto\n",
    "mylsys[nom].forceOrder = my_order\n",
    "\n",
    "#mise a jour axiom avec bin nombre de plantes\n",
    "mylsys[nom].axiom = my_axiom(mylsys[nom], nbplantes) \n",
    "\n",
    "print(mylsys[nom].forceCarto)"
   ]
  },
  {
   "cell_type": "code",
   "execution_count": 38,
   "metadata": {},
   "outputs": [
    {
     "name": "stdout",
     "output_type": "stream",
     "text": [
      "lspe ['TimbaleOrca', 'TimbaleOrca']\n",
      "carto 32 [array([2.5, 5. , 0. ]), array([ 2.5, 15. ,  0. ]), array([ 2.5, 25. ,  0. ]), array([ 2.5, 35. ,  0. ]), array([7.5, 5. , 0. ]), array([ 7.5, 15. ,  0. ]), array([ 7.5, 25. ,  0. ]), array([ 7.5, 35. ,  0. ]), array([12.5,  5. ,  0. ]), array([12.5, 15. ,  0. ]), array([12.5, 25. ,  0. ]), array([12.5, 35. ,  0. ]), array([17.5,  5. ,  0. ]), array([17.5, 15. ,  0. ]), array([17.5, 25. ,  0. ]), array([17.5, 35. ,  0. ]), array([22.5,  5. ,  0. ]), array([22.5, 15. ,  0. ]), array([22.5, 25. ,  0. ]), array([22.5, 35. ,  0. ]), array([27.5,  5. ,  0. ]), array([27.5, 15. ,  0. ]), array([27.5, 25. ,  0. ]), array([27.5, 35. ,  0. ]), array([32.5,  5. ,  0. ]), array([32.5, 15. ,  0. ]), array([32.5, 25. ,  0. ]), array([32.5, 35. ,  0. ]), array([37.5,  5. ,  0. ]), array([37.5, 15. ,  0. ]), array([37.5, 25. ,  0. ]), array([37.5, 35. ,  0. ])]\n",
      "soil init [16.0, 16.0, 16.0, 16.0, 16.0, 16.0, 16.0, 16.0] [0.1, 0.1, 0.1, 0.1, 0.1, 0.1, 0.1, 0.1] [[0.3333333333333333, 0.3333333333333333, 0.3333333333333333, 0.0, 0.0, 0.0, 0.0, 0.0, 0.0, 0.0, 0.0, 0.0, 0.0, 0.0, 0.0, 0.0, 0.0, 0.0, 0.0, 0.0, 0.0, 0.0, 0.0, 0.0, 0.0, 0.0, 0.0, 0.0, 0.0, 0.0, 0.0, 0.0, 0.0, 0.0, 0.0, 0.0, 0.0, 0.0, 0.0, 0.0, 0.0, 0.0, 0.0, 0.0, 0.0, 0.0, 0.0, 0.0, 0.0, 0.0, 0.0, 0.0, 0.0], [0.3333333333333333, 0.3333333333333333, 0.3333333333333333, 0.0, 0.0, 0.0, 0.0, 0.0, 0.0, 0.0, 0.0, 0.0, 0.0, 0.0, 0.0, 0.0, 0.0, 0.0, 0.0, 0.0, 0.0, 0.0, 0.0, 0.0, 0.0, 0.0, 0.0, 0.0, 0.0, 0.0, 0.0, 0.0, 0.0, 0.0, 0.0, 0.0, 0.0, 0.0, 0.0, 0.0, 0.0, 0.0, 0.0, 0.0, 0.0, 0.0, 0.0, 0.0, 0.0, 0.0, 0.0, 0.0, 0.0], [0.3333333333333333, 0.3333333333333333, 0.3333333333333333, 0.0, 0.0, 0.0, 0.0, 0.0, 0.0, 0.0, 0.0, 0.0, 0.0, 0.0, 0.0, 0.0, 0.0, 0.0, 0.0, 0.0, 0.0, 0.0, 0.0, 0.0, 0.0, 0.0, 0.0, 0.0, 0.0, 0.0, 0.0, 0.0, 0.0, 0.0, 0.0, 0.0, 0.0, 0.0, 0.0, 0.0, 0.0, 0.0, 0.0, 0.0, 0.0, 0.0, 0.0, 0.0, 0.0, 0.0, 0.0, 0.0, 0.0], [0.3333333333333333, 0.3333333333333333, 0.3333333333333333, 0.0, 0.0, 0.0, 0.0, 0.0, 0.0, 0.0, 0.0, 0.0, 0.0, 0.0, 0.0, 0.0, 0.0, 0.0, 0.0, 0.0, 0.0, 0.0, 0.0, 0.0, 0.0, 0.0, 0.0, 0.0, 0.0, 0.0, 0.0, 0.0, 0.0, 0.0, 0.0, 0.0, 0.0, 0.0, 0.0, 0.0, 0.0, 0.0, 0.0, 0.0, 0.0, 0.0, 0.0, 0.0, 0.0, 0.0, 0.0, 0.0, 0.0], [0.3333333333333333, 0.3333333333333333, 0.3333333333333333, 0.0, 0.0, 0.0, 0.0, 0.0, 0.0, 0.0, 0.0, 0.0, 0.0, 0.0, 0.0, 0.0, 0.0, 0.0, 0.0, 0.0, 0.0, 0.0, 0.0, 0.0, 0.0, 0.0, 0.0, 0.0, 0.0, 0.0, 0.0, 0.0, 0.0, 0.0, 0.0, 0.0, 0.0, 0.0, 0.0, 0.0, 0.0, 0.0, 0.0, 0.0, 0.0, 0.0, 0.0, 0.0, 0.0, 0.0, 0.0, 0.0, 0.0], [0.3333333333333333, 0.3333333333333333, 0.3333333333333333, 0.0, 0.0, 0.0, 0.0, 0.0, 0.0, 0.0, 0.0, 0.0, 0.0, 0.0, 0.0, 0.0, 0.0, 0.0, 0.0, 0.0, 0.0, 0.0, 0.0, 0.0, 0.0, 0.0, 0.0, 0.0, 0.0, 0.0, 0.0, 0.0, 0.0, 0.0, 0.0, 0.0, 0.0, 0.0, 0.0, 0.0, 0.0, 0.0, 0.0, 0.0, 0.0, 0.0, 0.0, 0.0, 0.0, 0.0, 0.0, 0.0, 0.0], [0.3333333333333333, 0.3333333333333333, 0.3333333333333333, 0.0, 0.0, 0.0, 0.0, 0.0, 0.0, 0.0, 0.0, 0.0, 0.0, 0.0, 0.0, 0.0, 0.0, 0.0, 0.0, 0.0, 0.0, 0.0, 0.0, 0.0, 0.0, 0.0, 0.0, 0.0, 0.0, 0.0, 0.0, 0.0, 0.0, 0.0, 0.0, 0.0, 0.0, 0.0, 0.0, 0.0, 0.0, 0.0, 0.0, 0.0, 0.0, 0.0, 0.0, 0.0, 0.0, 0.0, 0.0, 0.0, 0.0], [0.3333333333333333, 0.3333333333333333, 0.3333333333333333, 0.0, 0.0, 0.0, 0.0, 0.0, 0.0, 0.0, 0.0, 0.0, 0.0, 0.0, 0.0, 0.0, 0.0, 0.0, 0.0, 0.0, 0.0, 0.0, 0.0, 0.0, 0.0, 0.0, 0.0, 0.0, 0.0, 0.0, 0.0, 0.0, 0.0, 0.0, 0.0, 0.0, 0.0, 0.0, 0.0, 0.0, 0.0, 0.0, 0.0, 0.0, 0.0, 0.0, 0.0, 0.0, 0.0, 0.0, 0.0, 0.0, 0.0]] [0.7, 0.7, 0.7, 0.7, 0.7, 0.7, 0.7, 0.7] [0.42, 0.42, 0.42, 0.42, 0.42, 0.42, 0.42, 0.42]\n",
      "ls_CRES (8, 30, 5, 5)\n",
      "ls_CBio (8, 30, 5, 5)\n",
      "parResi {'CNRESt': [16.0, 16.0, 16.0, 16.0, 16.0, 16.0, 16.0, 16.0], 'CNBio': [8.412500000000001, 8.412500000000001, 8.412500000000001, 8.412500000000001, 8.412500000000001, 8.412500000000001, 8.412500000000001, 8.412500000000001], 'KRES': [0.19125, 0.19125, 0.19125, 0.19125, 0.19125, 0.19125, 0.19125, 0.19125], 'YRES': [0.62, 0.62, 0.62, 0.62, 0.62, 0.62, 0.62, 0.62], 'KBio': [0.011, 0.011, 0.011, 0.011, 0.011, 0.011, 0.011, 0.011], 'HRES': [0.5941176470588235, 0.5941176470588235, 0.5941176470588235, 0.5941176470588235, 0.5941176470588235, 0.5941176470588235, 0.5941176470588235, 0.5941176470588235], 'TRefg': 15.0, 'FTEMHAg': 12.0, 'FTEMHg': 0.103, 'FTEMHB': 52.0}\n",
      "112\n"
     ]
    },
    {
     "name": "stderr",
     "output_type": "stream",
     "text": [
      "C:\\Users\\agrumel\\AppData\\Local\\Temp\\ipykernel_24940\\1085490841.py:2: Warning: Invalid Color value 0 in setColor (maximum is -1)\n",
      "  lstring = mylsys[nom].derive(50)\n",
      "C:\\Users\\agrumel\\AppData\\Local\\Temp\\ipykernel_24940\\1085490841.py:2: Warning: Invalid Color value 3 in setColor (maximum is -1)\n",
      "  lstring = mylsys[nom].derive(50)\n"
     ]
    },
    {
     "name": "stdout",
     "output_type": "stream",
     "text": [
      "113\n",
      "114\n",
      "115\n",
      "116\n",
      "117\n",
      "118\n",
      "119\n",
      "120\n",
      "121\n",
      "122\n",
      "123\n",
      "124\n",
      "125\n",
      "126\n",
      "127\n",
      "128\n",
      "129\n"
     ]
    },
    {
     "name": "stderr",
     "output_type": "stream",
     "text": [
      "C:\\Users\\agrumel\\AppData\\Local\\Temp\\ipykernel_24940\\1085490841.py:2: Warning: Invalid Color value 1 in setColor (maximum is -1)\n",
      "  lstring = mylsys[nom].derive(50)\n",
      "C:\\Users\\agrumel\\AppData\\Local\\Temp\\ipykernel_24940\\1085490841.py:2: Warning: Invalid Color value 2 in setColor (maximum is -1)\n",
      "  lstring = mylsys[nom].derive(50)\n",
      "C:\\Users\\agrumel\\AppData\\Local\\Temp\\ipykernel_24940\\1085490841.py:2: Warning: Invalid Color value 6 in setColor (maximum is -1)\n",
      "  lstring = mylsys[nom].derive(50)\n"
     ]
    },
    {
     "name": "stdout",
     "output_type": "stream",
     "text": [
      "130\n",
      "131\n",
      "132\n",
      "133\n",
      "134\n",
      "135\n",
      "136\n",
      "137\n",
      "138\n",
      "139\n",
      "140\n",
      "141\n",
      "142\n",
      "143\n",
      "144\n",
      "145\n",
      "146\n",
      "147\n",
      "148\n",
      "149\n",
      "150\n",
      "151\n",
      "152\n",
      "153\n",
      "154\n",
      "155\n",
      "156\n",
      "157\n",
      "158\n",
      "159\n",
      "160\n",
      "161\n"
     ]
    }
   ],
   "source": [
    "\n",
    "# run du l-system\n",
    "lstring = mylsys[nom].derive(50)\n",
    "scene_fin = mylsys[nom].sceneInterpretation(lstring)"
   ]
  },
  {
   "cell_type": "code",
   "execution_count": 37,
   "metadata": {},
   "outputs": [
    {
     "data": {
      "application/vnd.jupyter.widget-view+json": {
       "model_id": "997cf1e3fea04eb1aef4e05502002839",
       "version_major": 2,
       "version_minor": 0
      },
      "text/plain": [
       "SceneWidget(scenes=[{'id': 'ljNsUE6DwjoSgETFmDldYMJbE', 'data': b'x\\xda\\xbd\\x9c\\x0bt\\x15\\xd5\\xb9\\xc7\\xe7\\xf0\\x…"
      ]
     },
     "execution_count": 37,
     "metadata": {},
     "output_type": "execute_result"
    }
   ],
   "source": [
    "print()\n",
    "SceneWidget(scene_fin)"
   ]
  }
 ],
 "metadata": {
  "kernelspec": {
   "display_name": "plantfusion",
   "language": "python",
   "name": "python3"
  },
  "language_info": {
   "codemirror_mode": {
    "name": "ipython",
    "version": 3
   },
   "file_extension": ".py",
   "mimetype": "text/x-python",
   "name": "python",
   "nbconvert_exporter": "python",
   "pygments_lexer": "ipython3",
   "version": "3.9.15"
  }
 },
 "nbformat": 4,
 "nbformat_minor": 2
}
