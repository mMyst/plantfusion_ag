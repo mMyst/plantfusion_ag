{
 "cells": [
  {
   "cell_type": "code",
   "execution_count": 25,
   "metadata": {},
   "outputs": [
    {
     "name": "stdout",
     "output_type": "stream",
     "text": [
      "folder inputs: c:\\Users\\agrumel\\Code\\Python_Ecophy\\plantfusion_ag\\inputs_soil_legume\n",
      "folder outputs: c:\\Users\\agrumel\\Code\\Python_Ecophy\\plantfusion_ag\\outputs\n"
     ]
    }
   ],
   "source": [
    "#Imports de lpy, caribu et plantgl\n",
    "\n",
    "from openalea.lpy import *\n",
    "\n",
    "from __future__ import print_function\n",
    "from ipywidgets import interact, interactive, fixed, interact_manual\n",
    "from pgljupyter import LsystemWidget, SceneWidget #librairie Lsystem\n",
    "from pathlib import Path\n",
    "import legume\n",
    "import os\n",
    "import sys\n",
    "\n",
    "\n",
    "#local path du package l-egume\n",
    "path_leg = os.path.dirname(os.getcwd())\n",
    "\n",
    "import legume.IOxls as IOxls\n",
    "import legume.IOtable as IOtable\n",
    "import pandas as pd\n",
    "\n",
    "foldin = os.path.join(path_leg, 'inputs_soil_legume')\n",
    "foldout = os.path.join(path_leg, 'outputs')\n",
    "\n",
    "\n",
    "print('folder inputs:', foldin)\n",
    "print('folder outputs:', foldout)\n"
   ]
  },
  {
   "cell_type": "code",
   "execution_count": 7,
   "metadata": {},
   "outputs": [
    {
     "name": "stdout",
     "output_type": "stream",
     "text": [
      "usm file: c:\\Users\\agrumel\\Code\\Python_Ecophy\\plantfusion_ag\\inputs_soil_legume\\liste_usms_exemple.xls\n",
      "   ID_usm        mixID typearrangement  optdamier  cote  nbcote\n",
      "0     1.0        LUCOS            row4        0.0  40.0     8.0\n",
      "1     2.0        LUCOS            row4        0.0  56.0    14.0\n",
      "2     3.0  mix_default            row4        0.0  56.0    14.0\n",
      "3     4.0        LUCOS            row4        0.0  40.0    16.0\n",
      "4     5.0  mix_default            row4        0.0  40.0     8.0\n",
      "5     6.0  mix_default            row4        0.0  56.0    14.0\n"
     ]
    }
   ],
   "source": [
    "# lecture fichier liste d'usm\n",
    "usm_file = 'liste_usms_exemple.xls'\n",
    "ongletUSM = 'LUCOS'\n",
    "usm_path = os.path.join(foldin, usm_file)\n",
    "print('usm file:', usm_path)\n",
    "\n",
    "# lecture\n",
    "usms = IOxls.xlrd.open_workbook(usm_path)\n",
    "# recup dans un disctionnaire (vraie input l-egume)\n",
    "dic_usms = IOtable.conv_dataframe(IOxls.get_xls_col(usms.sheet_by_name(ongletUSM)))\n",
    "# conversion en pandas df\n",
    "df_usms = pd.DataFrame(dic_usms)\n",
    "\n",
    "print(df_usms[[\"ID_usm\", \"mixID\", \"typearrangement\", \"optdamier\", \"cote\", \"nbcote\"]])"
   ]
  },
  {
   "cell_type": "code",
   "execution_count": 26,
   "metadata": {},
   "outputs": [
    {
     "name": "stderr",
     "output_type": "stream",
     "text": [
      "<string>:923: Warning: Found symbol '#' after Lstring. Considered as begining of comments\n",
      "<string>:940: Warning: Found symbol '#' after Lstring. Considered as begining of comments\n",
      "<string>:1230: Warning: Found symbol '#' after Lstring. Considered as begining of comments\n",
      "<string>:1288: Warning: Found symbol '#' after Lstring. Considered as begining of comments\n",
      "<string>:1310: Warning: Found symbol '#' after Lstring. Considered as begining of comments\n",
      "<string>:1760: Warning: Found symbol '#' after Lstring. Considered as begining of comments\n",
      "<string>:1838: Warning: Found symbol '#' after Lstring. Considered as begining of comments\n",
      "<string>:1979: Warning: Found symbol '#' after Lstring. Considered as begining of comments\n",
      "<string>:1993: Warning: Found symbol '#' after Lstring. Considered as begining of comments\n",
      "<string>:1994: Warning: Found symbol '#' after Lstring. Considered as begining of comments\n",
      "<string>:2039: Warning: Found symbol '#' after Lstring. Considered as begining of comments\n",
      "<string>:2041: Warning: Found symbol '#' after Lstring. Considered as begining of comments\n",
      "c:\\users\\agrumel\\code\\python_ecophy\\l-egume\\legume\\run_legume_usm.py:61: Warning: Interpretation rules should be context free. Contexts not supported for multiple iterations.\n",
      "  testsim[name] = lpy.Lsystem(path_lsys)  # objet l-system\n",
      "<string>:2159: Warning: Found symbol '#' after Lstring. Considered as begining of comments\n",
      "<string>:2250: Warning: Found symbol '#' after Lstring. Considered as begining of comments\n"
     ]
    },
    {
     "name": "stdout",
     "output_type": "stream",
     "text": [
      "1_l-egume\n"
     ]
    }
   ],
   "source": [
    "import numpy as np\n",
    "import openalea.lpy as lpy\n",
    "import legume.run_legume_usm as runl\n",
    "\n",
    "numID=0\n",
    "\n",
    "# formate le objet l-system selon les entrees de l'USM numID\n",
    "mylsys = runl.lsystemInputOutput_usm(usm_file, foldin, ongletBatch='LUCOS', i=numID, path_OUT=foldout)\n",
    "nom = list(mylsys)[0]\n",
    "\n",
    "print(nom)\n",
    "\n"
   ]
  },
  {
   "cell_type": "code",
   "execution_count": 29,
   "metadata": {},
   "outputs": [
    {
     "name": "stdout",
     "output_type": "stream",
     "text": [
      "[array([1., 2., 0.]), array([11.,  2.,  0.]), array([7., 7., 0.]), array([14.,  7.,  0.]), array([ 7., 17.,  0.]), array([ 7., 17.,  5.])]\n"
     ]
    }
   ],
   "source": [
    "#fonction pour créer un nouvel axiom avec N nb plantes\n",
    "def my_axiom(lsys, nbplantes):\n",
    "    a = lpy.AxialTree()\n",
    "    a.append(lsys.attente(1))\n",
    "    for j in range(0, nbplantes):\n",
    "        a.append(lsys.Sd(j))\n",
    "    \n",
    "    return a\n",
    "\n",
    "#definit une carto et plante order\n",
    "my_carto = [np.array([1.,2.,0.]), np.array([11.,2.,0.]), np.array([7.,7.,0.]), np.array([14.,7.,0.]), np.array([7.,17.,0.]),np.array([7.,17.,5.])] # liste de np.array ! doit etre des float \n",
    "my_order = [0,0,0,0,0,0] #liste d'identifiants plantes\n",
    "nbplantes= len(my_carto)\n",
    "\n",
    "#mise a jour de forceCarto et forceOrder\n",
    "mylsys[nom].forceCarto = my_carto\n",
    "mylsys[nom].forceOrder = my_order\n",
    "\n",
    "#mise a jour axiom avec bin nombre de plantes\n",
    "mylsys[nom].axiom = my_axiom(mylsys[nom], nbplantes) \n",
    "\n",
    "\n",
    "print(mylsys[nom].forceCarto)"
   ]
  },
  {
   "cell_type": "code",
   "execution_count": 30,
   "metadata": {},
   "outputs": [
    {
     "name": "stdout",
     "output_type": "stream",
     "text": [
      "lspe ['TimbaleOrca', 'TimbaleOrca']\n",
      "name2  ['TimbaleOrca', 'TimbaleOrca', 'TimbaleOrca', 'TimbaleOrca', 'TimbaleOrca', 'TimbaleOrca']\n",
      "ici carto [array([1., 2., 0.]), array([11.,  2.,  0.]), array([7., 7., 0.]), array([14.,  7.,  0.]), array([ 7., 17.,  0.]), array([ 7., 17.,  5.])]\n",
      "carto 6 [array([1., 2., 0.]), array([11.,  2.,  0.]), array([7., 7., 0.]), array([14.,  7.,  0.]), array([ 7., 17.,  0.]), array([ 7., 17.,  5.])]\n",
      "soil init [16.0, 16.0, 16.0, 16.0, 16.0, 16.0, 16.0, 16.0] [0.1, 0.1, 0.1, 0.1, 0.1, 0.1, 0.1, 0.1] [[0.3333333333333333, 0.3333333333333333, 0.3333333333333333, 0.0, 0.0, 0.0, 0.0, 0.0, 0.0, 0.0, 0.0, 0.0, 0.0, 0.0, 0.0, 0.0, 0.0, 0.0, 0.0, 0.0, 0.0, 0.0, 0.0, 0.0, 0.0, 0.0, 0.0, 0.0, 0.0, 0.0, 0.0, 0.0, 0.0, 0.0, 0.0, 0.0, 0.0, 0.0, 0.0, 0.0, 0.0, 0.0, 0.0, 0.0, 0.0, 0.0, 0.0, 0.0, 0.0, 0.0, 0.0, 0.0, 0.0], [0.3333333333333333, 0.3333333333333333, 0.3333333333333333, 0.0, 0.0, 0.0, 0.0, 0.0, 0.0, 0.0, 0.0, 0.0, 0.0, 0.0, 0.0, 0.0, 0.0, 0.0, 0.0, 0.0, 0.0, 0.0, 0.0, 0.0, 0.0, 0.0, 0.0, 0.0, 0.0, 0.0, 0.0, 0.0, 0.0, 0.0, 0.0, 0.0, 0.0, 0.0, 0.0, 0.0, 0.0, 0.0, 0.0, 0.0, 0.0, 0.0, 0.0, 0.0, 0.0, 0.0, 0.0, 0.0, 0.0], [0.3333333333333333, 0.3333333333333333, 0.3333333333333333, 0.0, 0.0, 0.0, 0.0, 0.0, 0.0, 0.0, 0.0, 0.0, 0.0, 0.0, 0.0, 0.0, 0.0, 0.0, 0.0, 0.0, 0.0, 0.0, 0.0, 0.0, 0.0, 0.0, 0.0, 0.0, 0.0, 0.0, 0.0, 0.0, 0.0, 0.0, 0.0, 0.0, 0.0, 0.0, 0.0, 0.0, 0.0, 0.0, 0.0, 0.0, 0.0, 0.0, 0.0, 0.0, 0.0, 0.0, 0.0, 0.0, 0.0], [0.3333333333333333, 0.3333333333333333, 0.3333333333333333, 0.0, 0.0, 0.0, 0.0, 0.0, 0.0, 0.0, 0.0, 0.0, 0.0, 0.0, 0.0, 0.0, 0.0, 0.0, 0.0, 0.0, 0.0, 0.0, 0.0, 0.0, 0.0, 0.0, 0.0, 0.0, 0.0, 0.0, 0.0, 0.0, 0.0, 0.0, 0.0, 0.0, 0.0, 0.0, 0.0, 0.0, 0.0, 0.0, 0.0, 0.0, 0.0, 0.0, 0.0, 0.0, 0.0, 0.0, 0.0, 0.0, 0.0], [0.3333333333333333, 0.3333333333333333, 0.3333333333333333, 0.0, 0.0, 0.0, 0.0, 0.0, 0.0, 0.0, 0.0, 0.0, 0.0, 0.0, 0.0, 0.0, 0.0, 0.0, 0.0, 0.0, 0.0, 0.0, 0.0, 0.0, 0.0, 0.0, 0.0, 0.0, 0.0, 0.0, 0.0, 0.0, 0.0, 0.0, 0.0, 0.0, 0.0, 0.0, 0.0, 0.0, 0.0, 0.0, 0.0, 0.0, 0.0, 0.0, 0.0, 0.0, 0.0, 0.0, 0.0, 0.0, 0.0], [0.3333333333333333, 0.3333333333333333, 0.3333333333333333, 0.0, 0.0, 0.0, 0.0, 0.0, 0.0, 0.0, 0.0, 0.0, 0.0, 0.0, 0.0, 0.0, 0.0, 0.0, 0.0, 0.0, 0.0, 0.0, 0.0, 0.0, 0.0, 0.0, 0.0, 0.0, 0.0, 0.0, 0.0, 0.0, 0.0, 0.0, 0.0, 0.0, 0.0, 0.0, 0.0, 0.0, 0.0, 0.0, 0.0, 0.0, 0.0, 0.0, 0.0, 0.0, 0.0, 0.0, 0.0, 0.0, 0.0], [0.3333333333333333, 0.3333333333333333, 0.3333333333333333, 0.0, 0.0, 0.0, 0.0, 0.0, 0.0, 0.0, 0.0, 0.0, 0.0, 0.0, 0.0, 0.0, 0.0, 0.0, 0.0, 0.0, 0.0, 0.0, 0.0, 0.0, 0.0, 0.0, 0.0, 0.0, 0.0, 0.0, 0.0, 0.0, 0.0, 0.0, 0.0, 0.0, 0.0, 0.0, 0.0, 0.0, 0.0, 0.0, 0.0, 0.0, 0.0, 0.0, 0.0, 0.0, 0.0, 0.0, 0.0, 0.0, 0.0], [0.3333333333333333, 0.3333333333333333, 0.3333333333333333, 0.0, 0.0, 0.0, 0.0, 0.0, 0.0, 0.0, 0.0, 0.0, 0.0, 0.0, 0.0, 0.0, 0.0, 0.0, 0.0, 0.0, 0.0, 0.0, 0.0, 0.0, 0.0, 0.0, 0.0, 0.0, 0.0, 0.0, 0.0, 0.0, 0.0, 0.0, 0.0, 0.0, 0.0, 0.0, 0.0, 0.0, 0.0, 0.0, 0.0, 0.0, 0.0, 0.0, 0.0, 0.0, 0.0, 0.0, 0.0, 0.0, 0.0]] [0.7, 0.7, 0.7, 0.7, 0.7, 0.7, 0.7, 0.7] [0.42, 0.42, 0.42, 0.42, 0.42, 0.42, 0.42, 0.42]\n",
      "ls_CRES (8, 30, 5, 5)\n",
      "ls_CBio (8, 30, 5, 5)\n",
      "parResi {'CNRESt': [16.0, 16.0, 16.0, 16.0, 16.0, 16.0, 16.0, 16.0], 'CNBio': [8.412500000000001, 8.412500000000001, 8.412500000000001, 8.412500000000001, 8.412500000000001, 8.412500000000001, 8.412500000000001, 8.412500000000001], 'KRES': [0.19125, 0.19125, 0.19125, 0.19125, 0.19125, 0.19125, 0.19125, 0.19125], 'YRES': [0.62, 0.62, 0.62, 0.62, 0.62, 0.62, 0.62, 0.62], 'KBio': [0.011, 0.011, 0.011, 0.011, 0.011, 0.011, 0.011, 0.011], 'HRES': [0.5941176470588235, 0.5941176470588235, 0.5941176470588235, 0.5941176470588235, 0.5941176470588235, 0.5941176470588235, 0.5941176470588235, 0.5941176470588235], 'TRefg': 15.0, 'FTEMHAg': 12.0, 'FTEMHg': 0.103, 'FTEMHB': 52.0}\n",
      "112\n",
      "113\n"
     ]
    },
    {
     "name": "stderr",
     "output_type": "stream",
     "text": [
      "C:\\Users\\agrumel\\AppData\\Local\\Temp\\ipykernel_27116\\1085490841.py:2: Warning: Invalid Color value 0 in setColor (maximum is -1)\n",
      "  lstring = mylsys[nom].derive(50)\n",
      "C:\\Users\\agrumel\\AppData\\Local\\Temp\\ipykernel_27116\\1085490841.py:2: Warning: Invalid Color value 3 in setColor (maximum is -1)\n",
      "  lstring = mylsys[nom].derive(50)\n"
     ]
    },
    {
     "name": "stdout",
     "output_type": "stream",
     "text": [
      "114\n",
      "115\n",
      "116\n",
      "117\n",
      "118\n",
      "119\n",
      "120\n",
      "121\n",
      "122\n",
      "123\n",
      "124\n",
      "125\n",
      "126\n",
      "127\n"
     ]
    },
    {
     "name": "stderr",
     "output_type": "stream",
     "text": [
      "C:\\Users\\agrumel\\AppData\\Local\\Temp\\ipykernel_27116\\1085490841.py:2: Warning: Invalid Color value 1 in setColor (maximum is -1)\n",
      "  lstring = mylsys[nom].derive(50)\n",
      "C:\\Users\\agrumel\\AppData\\Local\\Temp\\ipykernel_27116\\1085490841.py:2: Warning: Invalid Color value 2 in setColor (maximum is -1)\n",
      "  lstring = mylsys[nom].derive(50)\n",
      "C:\\Users\\agrumel\\AppData\\Local\\Temp\\ipykernel_27116\\1085490841.py:2: Warning: Invalid Color value 6 in setColor (maximum is -1)\n",
      "  lstring = mylsys[nom].derive(50)\n"
     ]
    },
    {
     "name": "stdout",
     "output_type": "stream",
     "text": [
      "128\n",
      "129\n",
      "130\n",
      "131\n",
      "132\n",
      "133\n",
      "134\n",
      "135\n",
      "136\n",
      "137\n",
      "138\n",
      "139\n",
      "140\n",
      "141\n",
      "142\n",
      "143\n",
      "144\n",
      "145\n",
      "146\n",
      "147\n",
      "148\n",
      "149\n",
      "150\n",
      "151\n",
      "152\n",
      "153\n",
      "154\n",
      "155\n",
      "156\n",
      "157\n",
      "158\n",
      "159\n",
      "160\n",
      "161\n"
     ]
    }
   ],
   "source": [
    "\n",
    "# run du l-system\n",
    "lstring = mylsys[nom].derive(50)\n",
    "scene_fin = mylsys[nom].sceneInterpretation(lstring)"
   ]
  },
  {
   "cell_type": "code",
   "execution_count": 31,
   "metadata": {},
   "outputs": [
    {
     "name": "stdout",
     "output_type": "stream",
     "text": [
      "\n"
     ]
    },
    {
     "data": {
      "application/vnd.jupyter.widget-view+json": {
       "model_id": "a6ca0c10f7094c49b790c1885d2b2305",
       "version_major": 2,
       "version_minor": 0
      },
      "text/plain": [
       "SceneWidget(scenes=[{'id': 'AxyLGS1jXzG0Tj0NiQlDBoxFJ', 'data': b'x\\xda\\xbd\\x9d\\x0b\\x9cV\\xd3\\xfe\\xff\\x9fg\\x86\\…"
      ]
     },
     "execution_count": 31,
     "metadata": {},
     "output_type": "execute_result"
    }
   ],
   "source": [
    "print()\n",
    "SceneWidget(scene_fin)"
   ]
  }
 ],
 "metadata": {
  "kernelspec": {
   "display_name": "plantfusion",
   "language": "python",
   "name": "python3"
  },
  "language_info": {
   "codemirror_mode": {
    "name": "ipython",
    "version": 3
   },
   "file_extension": ".py",
   "mimetype": "text/x-python",
   "name": "python",
   "nbconvert_exporter": "python",
   "pygments_lexer": "ipython3",
   "version": "3.9.19"
  }
 },
 "nbformat": 4,
 "nbformat_minor": 2
}
